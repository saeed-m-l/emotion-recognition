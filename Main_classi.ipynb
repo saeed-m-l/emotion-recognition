{
 "cells": [
  {
   "cell_type": "markdown",
   "metadata": {},
   "source": []
  },
  {
   "cell_type": "markdown",
   "metadata": {},
   "source": [
    "# Phase 1 Classification"
   ]
  },
  {
   "cell_type": "markdown",
   "metadata": {},
   "source": [
    "## MLP"
   ]
  },
  {
   "cell_type": "code",
   "execution_count": 22,
   "metadata": {},
   "outputs": [
    {
     "name": "stderr",
     "output_type": "stream",
     "text": [
      "c:\\Users\\SAEED.M.L\\anaconda3\\lib\\site-packages\\sklearn\\neural_network\\_multilayer_perceptron.py:1102: DataConversionWarning: A column-vector y was passed when a 1d array was expected. Please change the shape of y to (n_samples, ), for example using ravel().\n",
      "  y = column_or_1d(y, warn=True)\n"
     ]
    },
    {
     "name": "stdout",
     "output_type": "stream",
     "text": [
      "Best Hyperparameters:  {'activation': 'tanh', 'hidden_layer_sizes': (13,), 'max_iter': 1200}\n",
      "Best Accuracy: 84.00%\n"
     ]
    }
   ],
   "source": [
    "from sklearn.neural_network import MLPClassifier\n",
    "from sklearn.model_selection import GridSearchCV\n",
    "from sklearn.model_selection import StratifiedKFold\n",
    "import scipy.io as sio\n",
    "\n",
    "mat_data = sio.loadmat('X_train.mat')\n",
    "X = mat_data['X_train']\n",
    "mat_data = sio.loadmat('X_test.mat')\n",
    "X_test = mat_data['X_test']\n",
    "mat_data = sio.loadmat('label.mat')\n",
    "y = mat_data['trainLabel']\n",
    "y = y.reshape(550,1)\n",
    "param_grid = {\n",
    "    'activation': ['identity', 'logistic', 'tanh', 'relu'],\n",
    "    'hidden_layer_sizes': [(i,) for i in range(10, 31)],\n",
    "    'max_iter': [1200],  # Number of epochs\n",
    "}\n",
    "\n",
    "mlp = MLPClassifier()\n",
    "\n",
    "cv = StratifiedKFold(n_splits=5, shuffle=True, random_state=42)\n",
    "\n",
    "grid_search_phase1 = GridSearchCV(mlp, param_grid, scoring='accuracy', cv=cv, n_jobs=-1)\n",
    "grid_search_phase1.fit(X, y)\n",
    "\n",
    "print(\"Best Hyperparameters: \", grid_search_phase1.best_params_)\n",
    "print(\"Best Accuracy: {:.2f}%\".format(grid_search_phase1.best_score_ * 100))\n"
   ]
  },
  {
   "cell_type": "markdown",
   "metadata": {},
   "source": [
    "## RBF Neural Network"
   ]
  },
  {
   "cell_type": "code",
   "execution_count": 25,
   "metadata": {},
   "outputs": [
    {
     "name": "stdout",
     "output_type": "stream",
     "text": [
      "Best Parameters: {'hidden_dim': 80, 'radius': 0.05}\n",
      "Best Accuracy on Validation Set: 0.8581818181818182\n"
     ]
    }
   ],
   "source": [
    "from torch.utils.data import DataLoader, TensorDataset\n",
    "import numpy as np\n",
    "import torch.nn as nn\n",
    "import torch\n",
    "import torch.optim as optim\n",
    "from sklearn.metrics import accuracy_score\n",
    "from torch.utils.data import DataLoader, TensorDataset\n",
    "import scipy.io as sio\n",
    "from sklearn.model_selection import StratifiedKFold\n",
    "from sklearn.model_selection import ParameterGrid\n",
    "\n",
    "mat_data = sio.loadmat('X_train.mat')\n",
    "X = mat_data['X_train']\n",
    "mat_data = sio.loadmat('X_test.mat')\n",
    "X_test = mat_data['X_test']\n",
    "mat_data = sio.loadmat('label.mat')\n",
    "y = mat_data['trainLabel']\n",
    "y = y.reshape(550,1)\n",
    "for i in range(len(y)):\n",
    "    if y[i]==-1:\n",
    "        y[i]=0\n",
    "X_train_tensor = torch.Tensor(X)\n",
    "y_train_tensor = torch.LongTensor(y)\n",
    "X_test_tensor = torch.Tensor(X_test)\n",
    "y_train = y\n",
    "# Create DataLoader\n",
    "train_dataset = TensorDataset(X_train_tensor, y_train_tensor)\n",
    "train_loader = DataLoader(train_dataset, batch_size=64, shuffle=True)\n",
    "\n",
    "class RBFNet(nn.Module):\n",
    "    def __init__(self, input_dim, hidden_dim, output_dim, radius):\n",
    "        super(RBFNet, self).__init__()\n",
    "        self.centers = nn.Parameter(torch.randn(hidden_dim, input_dim))\n",
    "        # self.hidden_dim = hidden_dim\n",
    "        # self.input_dim = input_dim\n",
    "        self.beta = nn.Parameter(torch.ones(hidden_dim))\n",
    "        self.linear = nn.Linear(hidden_dim, output_dim)\n",
    "        self.radius = radius\n",
    "\n",
    "    def radial_basis(self, x):\n",
    "        # km = KMeans(n_clusters= self.hidden_dim, random_state=0, n_init='auto')\n",
    "        # km.fit(x)\n",
    "        # self.centers = torch.Tensor(np.array(km.cluster_centers_))\n",
    "        return torch.exp(-self.radius * ((x.unsqueeze(1) - self.centers) ** 2).sum(dim=2))\n",
    "\n",
    "    def forward(self, x):\n",
    "        rbf = self.radial_basis(x)\n",
    "        out = self.linear(rbf)\n",
    "        return out\n",
    "\n",
    "best_accuracy = 0.0\n",
    "best_params = {}\n",
    "\n",
    "param_grid = {\n",
    "    'radius': [0.005,0.0125,0.025,0.05,0.1],\n",
    "    'hidden_dim': [15,30, 40,60,70,75,80]\n",
    "}\n",
    "cv = StratifiedKFold(n_splits=5, shuffle=True, random_state=42)\n",
    "for params in ParameterGrid(param_grid):\n",
    "    rbf_net = RBFNet(input_dim=X.shape[1], output_dim=len(np.unique(y_train)), **params)\n",
    "    criterion = nn.CrossEntropyLoss()\n",
    "    optimizer = optim.Adam(rbf_net.parameters(), lr=0.01)\n",
    "    acc = 0\n",
    "    for train_idx, val_idx in cv.split(X, y):\n",
    "        for epoch in range(300):\n",
    "            optimizer.zero_grad()\n",
    "            outputs = rbf_net(X_train_tensor[train_idx])\n",
    "            loss = criterion(outputs, y_train_tensor[train_idx].squeeze()) \n",
    "            loss.backward()\n",
    "            optimizer.step()\n",
    "\n",
    "        with torch.no_grad():\n",
    "            rbf_net.eval()\n",
    "            y_pred = torch.argmax(rbf_net(X_train_tensor[val_idx]), dim=1).numpy()\n",
    "            accuracy = accuracy_score(y_train[val_idx], y_pred)\n",
    "        acc+=accuracy\n",
    "    accuracy = acc/5\n",
    "    if accuracy > best_accuracy:\n",
    "        best_accuracy = accuracy\n",
    "        best_params = params\n",
    "\n",
    "print(\"Best Parameters:\", best_params)\n",
    "print(\"Best Accuracy on Validation Set:\", best_accuracy)\n"
   ]
  },
  {
   "cell_type": "code",
   "execution_count": 26,
   "metadata": {},
   "outputs": [],
   "source": [
    "rbf_net = RBFNet(input_dim=X.shape[1], output_dim=len(np.unique(y_train)), hidden_dim=80, radius=0.05)\n",
    "criterion = nn.CrossEntropyLoss()\n",
    "optimizer = optim.Adam(rbf_net.parameters(), lr=0.01)\n",
    "for epoch in range(300):\n",
    "    optimizer.zero_grad()\n",
    "    outputs = rbf_net(X_train_tensor)\n",
    "    loss = criterion(outputs, y_train_tensor.squeeze()) \n",
    "    loss.backward()\n",
    "    optimizer.step()\n",
    "with torch.no_grad():\n",
    "    rbf_net.eval()\n",
    "    y_pred = torch.argmax(rbf_net(X_test_tensor), dim=1).numpy()\n",
    "        \n",
    "Y_test = np.array(y_pred)\n",
    "for i in range(len(Y_test)):\n",
    "    if Y_test[i] == 0:\n",
    "        Y_test[i] = -1"
   ]
  },
  {
   "cell_type": "markdown",
   "metadata": {},
   "source": [
    "### Here save our TEST Labels for phase 1"
   ]
  },
  {
   "cell_type": "code",
   "execution_count": 27,
   "metadata": {},
   "outputs": [
    {
     "name": "stdout",
     "output_type": "stream",
     "text": [
      "{'activation': 'tanh', 'hidden_layer_sizes': (13,), 'max_iter': 1200}\n"
     ]
    },
    {
     "name": "stderr",
     "output_type": "stream",
     "text": [
      "c:\\Users\\SAEED.M.L\\anaconda3\\lib\\site-packages\\sklearn\\neural_network\\_multilayer_perceptron.py:1102: DataConversionWarning: A column-vector y was passed when a 1d array was expected. Please change the shape of y to (n_samples, ), for example using ravel().\n",
      "  y = column_or_1d(y, warn=True)\n"
     ]
    }
   ],
   "source": [
    "#  Here I save test matrix\n",
    "print(grid_search_phase1.best_params_)\n",
    "model = grid_search_phase1.best_estimator_\n",
    "model.fit(X,y)\n",
    "out = model.predict(X_test)\n",
    "for i in range(len(out)):\n",
    "    if out[i] == 0:\n",
    "        out[i] =-1\n",
    "sio.savemat('TestLabels_phase1.mat',{'labelMLP':out,'labelRBF':Y_test})"
   ]
  },
  {
   "cell_type": "markdown",
   "metadata": {},
   "source": [
    "## Phase 2 GA"
   ]
  },
  {
   "cell_type": "code",
   "execution_count": 11,
   "metadata": {},
   "outputs": [
    {
     "name": "stdout",
     "output_type": "stream",
     "text": [
      "Best Individual: [384, 3, 4, 389, 6, 390, 388, 7, 398, 399, 143, 15, 530, 19, 149, 534, 535, 543, 168, 297, 298, 426, 300, 303, 304, 55, 441, 314, 63, 320, 321, 324, 453, 454, 327, 205, 208, 210, 214, 216, 217, 219, 93, 94, 96, 98, 495, 498, 115, 116, 501, 500, 375, 120, 121, 250, 379, 252, 253, 254]\n",
      "Best Fitness: 82486.85053052753\n"
     ]
    }
   ],
   "source": [
    "import random\n",
    "from deap import base, creator, tools, algorithms\n",
    "import scipy.io as sio\n",
    "import numpy as np\n",
    "\n",
    "mat_data = sio.loadmat('label.mat')\n",
    "y = mat_data['trainLabel']\n",
    "labels = y.reshape(550,1)\n",
    "mat_data = sio.loadmat('X_train_gen.mat')\n",
    "data = mat_data['X_train_gen']\n",
    "\n",
    "creator.create(\"FitnessMax\", base.Fitness, weights=(1.0,))\n",
    "creator.create(\"Individual\", list, fitness=creator.FitnessMax)\n",
    "\n",
    "def generate_individual():\n",
    "    return random.sample(range(0, 600), 60)\n",
    "\n",
    "\n",
    "def evaluate(individual):\n",
    "    penalty = len(np.unique(individual)) / 20\n",
    "    X = data[:, np.unique(individual)]\n",
    "    x1 = labels == 1\n",
    "    x2 = labels == -1\n",
    "    # print(x1.shape)\n",
    "    X1 = X[x1.squeeze(), :]\n",
    "    X2 = X[x2.squeeze(), :]\n",
    "\n",
    "    S1 = np.sum((X1 - np.mean(X1, axis=1)[:, np.newaxis])**2)\n",
    "    S2 = np.sum((X2 - np.mean(X2, axis=1)[:, np.newaxis])**2)\n",
    "    fit = S1 + S2 - penalty\n",
    "    return fit,\n",
    "    \n",
    "\n",
    "\n",
    "def modify_individual(individual):\n",
    "    unique_numbers = list(set(individual))\n",
    "    while len(unique_numbers) < 60:\n",
    "        missing_numbers = list(set(range(0, 600)) - set(unique_numbers))\n",
    "        random.shuffle(missing_numbers)\n",
    "        unique_numbers.append(missing_numbers.pop())\n",
    "    return unique_numbers\n",
    "\n",
    "# Create the toolbox\n",
    "toolbox = base.Toolbox()\n",
    "toolbox.register(\"individual\", tools.initIterate, creator.Individual, generate_individual)\n",
    "toolbox.register(\"population\", tools.initRepeat, list, toolbox.individual)\n",
    "toolbox.register(\"evaluate\", evaluate)\n",
    "toolbox.register(\"mate\", tools.cxTwoPoint)\n",
    "toolbox.register(\"mutate\", tools.mutShuffleIndexes, indpb=0.05)\n",
    "toolbox.register(\"select\", tools.selTournament, tournsize=3)\n",
    "\n",
    "\n",
    "population_size = 170\n",
    "generations = 5000\n",
    "crossover_probability = 0.7\n",
    "mutation_probability = 0.3\n",
    "elitism_ratio = 0.05 \n",
    "population = toolbox.population(n=population_size)\n",
    "\n",
    "fitness_values = list(map(toolbox.evaluate, population))\n",
    "for ind, fit in zip(population, fitness_values):\n",
    "    ind.fitness.values = fit\n",
    "\n",
    "\n",
    "for gen in range(generations):\n",
    "\n",
    "    for ind in population:\n",
    "        ind[:] = modify_individual(ind)\n",
    "\n",
    "    fitness_values = list(map(toolbox.evaluate, population))\n",
    "    for ind, fit in zip(population, fitness_values):\n",
    "        ind.fitness.values = fit\n",
    "\n",
    "    elites = tools.selBest(population, k=int(elitism_ratio * population_size))\n",
    "    offspring = algorithms.varAnd(population, toolbox, cxpb=crossover_probability, mutpb=mutation_probability)\n",
    "    fitness_values = list(map(toolbox.evaluate, offspring))\n",
    "    for ind, fit in zip(offspring, fitness_values):\n",
    "        ind.fitness.values = fit\n",
    "\n",
    "    population = elites + toolbox.select(offspring, k=population_size - len(elites))\n",
    "\n",
    "# Print the best individual and its fitness value\n",
    "best_individual = tools.selBest(population, k=1)[0]\n",
    "print(\"Best Individual:\", best_individual)\n",
    "print(\"Best Fitness:\", best_individual.fitness.values[0])\n"
   ]
  },
  {
   "cell_type": "code",
   "execution_count": 12,
   "metadata": {},
   "outputs": [],
   "source": [
    "np.save('best_individual.npy',best_individual)"
   ]
  },
  {
   "cell_type": "markdown",
   "metadata": {},
   "source": [
    "## Classification PHASE 2"
   ]
  },
  {
   "cell_type": "markdown",
   "metadata": {},
   "source": [
    "### MLP"
   ]
  },
  {
   "cell_type": "code",
   "execution_count": 13,
   "metadata": {},
   "outputs": [
    {
     "name": "stderr",
     "output_type": "stream",
     "text": [
      "c:\\Users\\SAEED.M.L\\anaconda3\\lib\\site-packages\\sklearn\\neural_network\\_multilayer_perceptron.py:1102: DataConversionWarning: A column-vector y was passed when a 1d array was expected. Please change the shape of y to (n_samples, ), for example using ravel().\n",
      "  y = column_or_1d(y, warn=True)\n"
     ]
    },
    {
     "name": "stdout",
     "output_type": "stream",
     "text": [
      "Best Hyperparameters:  {'activation': 'tanh', 'hidden_layer_sizes': (25,), 'max_iter': 1000}\n",
      "Best Accuracy: 87.09%\n"
     ]
    }
   ],
   "source": [
    "from sklearn.neural_network import MLPClassifier\n",
    "from sklearn.model_selection import GridSearchCV\n",
    "from sklearn.model_selection import StratifiedKFold\n",
    "import scipy.io as sio\n",
    "import numpy as np\n",
    "\n",
    "mat_data = sio.loadmat('X_train_gen.mat')\n",
    "X = mat_data['X_train_gen']\n",
    "X = X[:,best_individual]\n",
    "mat_data = sio.loadmat('label.mat')\n",
    "y = mat_data['trainLabel']\n",
    "y = y.reshape(550,1)\n",
    "param_grid = {\n",
    "    'activation': ['identity', 'logistic', 'tanh', 'relu'],\n",
    "    'hidden_layer_sizes': [(i,) for i in range(10, 31)],\n",
    "    'max_iter': [1000],  # Number of epochs\n",
    "}\n",
    "\n",
    "mlp = MLPClassifier()\n",
    "\n",
    "cv = StratifiedKFold(n_splits=5, shuffle=True, random_state=42)\n",
    "\n",
    "grid_search = GridSearchCV(mlp, param_grid, scoring='accuracy', cv=cv, n_jobs=-1)\n",
    "grid_search.fit(X, y)\n",
    "\n",
    "print(\"Best Hyperparameters: \", grid_search.best_params_)\n",
    "print(\"Best Accuracy: {:.2f}%\".format(grid_search.best_score_ * 100))\n"
   ]
  },
  {
   "cell_type": "markdown",
   "metadata": {},
   "source": [
    "### RBF"
   ]
  },
  {
   "cell_type": "code",
   "execution_count": 14,
   "metadata": {},
   "outputs": [
    {
     "name": "stdout",
     "output_type": "stream",
     "text": [
      "Best Parameters: {'hidden_dim': 80, 'radius': 0.025}\n",
      "Best Accuracy on Validation Set: 0.889090909090909\n"
     ]
    }
   ],
   "source": [
    "from torch.utils.data import DataLoader, TensorDataset\n",
    "import numpy as np\n",
    "import torch\n",
    "import scipy.io as sio\n",
    "\n",
    "import torch.nn as nn\n",
    "import torch\n",
    "import torch.optim as optim\n",
    "from sklearn.metrics import accuracy_score\n",
    "from torch.utils.data import DataLoader, TensorDataset\n",
    "import numpy as np\n",
    "from sklearn.model_selection import ParameterGrid\n",
    "\n",
    "mat_data = sio.loadmat('X_train_gen.mat')\n",
    "X = mat_data['X_train_gen']\n",
    "X = X[:,best_individual]\n",
    "mat_data = sio.loadmat('label.mat')\n",
    "y = mat_data['trainLabel']\n",
    "y = y.reshape(550,1)\n",
    "for i in range(len(y)):\n",
    "    if y[i]==-1:\n",
    "        y[i]=0\n",
    "X_train_tensor = torch.Tensor(X)\n",
    "X_train = X\n",
    "y_train_tensor = torch.LongTensor(y)\n",
    "y_train = y\n",
    "# Create DataLoader\n",
    "train_dataset = TensorDataset(X_train_tensor, y_train_tensor)\n",
    "train_loader = DataLoader(train_dataset, batch_size=64, shuffle=True)\n",
    "\n",
    "class RBFNet(nn.Module):\n",
    "    def __init__(self, input_dim, hidden_dim, output_dim, radius):\n",
    "        super(RBFNet, self).__init__()\n",
    "        self.centers = nn.Parameter(torch.randn(hidden_dim, input_dim))\n",
    "        self.beta = nn.Parameter(torch.ones(hidden_dim))\n",
    "        self.linear = nn.Linear(hidden_dim, output_dim)\n",
    "        self.radius = radius\n",
    "\n",
    "    def radial_basis(self, x):\n",
    "        return torch.exp(-self.radius * ((x.unsqueeze(1) - self.centers) ** 2).sum(dim=2))\n",
    "\n",
    "    def forward(self, x):\n",
    "        rbf = self.radial_basis(x)\n",
    "        out = self.linear(rbf)\n",
    "        return out\n",
    "\n",
    "best_accuracy = 0.0\n",
    "best_params = {}\n",
    "\n",
    "param_grid = {\n",
    "    'radius': [0.005,0.0125,0.025,0.05,0.1],\n",
    "    'hidden_dim': [15,30, 40,60,70,75,80]\n",
    "}\n",
    "cv = StratifiedKFold(n_splits=5, shuffle=True, random_state=42)\n",
    "for params in ParameterGrid(param_grid):\n",
    "    rbf_net = RBFNet(input_dim=X_train.shape[1], output_dim=len(np.unique(y_train)), **params)\n",
    "    criterion = nn.CrossEntropyLoss()\n",
    "    optimizer = optim.Adam(rbf_net.parameters(), lr=0.01)\n",
    "    acc = 0\n",
    "    for train_idx, val_idx in cv.split(X, y):\n",
    "        for epoch in range(300):\n",
    "            optimizer.zero_grad()\n",
    "            outputs = rbf_net(X_train_tensor[train_idx])\n",
    "            loss = criterion(outputs, y_train_tensor[train_idx].squeeze()) \n",
    "            loss.backward()\n",
    "            optimizer.step()\n",
    "\n",
    "        with torch.no_grad():\n",
    "            rbf_net.eval()\n",
    "            y_pred = torch.argmax(rbf_net(X_train_tensor[val_idx]), dim=1).numpy()\n",
    "            accuracy = accuracy_score(y_train[val_idx], y_pred)\n",
    "        acc+=accuracy\n",
    "    accuracy = acc/5\n",
    "    if accuracy > best_accuracy:\n",
    "        best_accuracy = accuracy\n",
    "        best_params = params\n",
    "\n",
    "print(\"Best Parameters:\", best_params)\n",
    "print(\"Best Accuracy on Validation Set:\", best_accuracy)\n"
   ]
  },
  {
   "cell_type": "markdown",
   "metadata": {},
   "source": [
    "### Save Test Labels"
   ]
  },
  {
   "cell_type": "code",
   "execution_count": 25,
   "metadata": {},
   "outputs": [],
   "source": [
    "mat_data = sio.loadmat('X_train_gen.mat')\n",
    "X = mat_data['X_train_gen']\n",
    "X = X[:,best_individual]\n",
    "mat_data = sio.loadmat('label.mat')\n",
    "y = mat_data['trainLabel']\n",
    "y = y.reshape(550,1)\n",
    "for i in range(len(y)):\n",
    "    if y[i]==-1:\n",
    "        y[i]=0\n",
    "X_train_tensor = torch.Tensor(X)\n",
    "y_train_tensor = torch.LongTensor(y)\n",
    "y_train = y\n",
    "\n",
    "mat_data = sio.loadmat('X_test_gen.mat')\n",
    "X_test = mat_data['X_test_gen']\n",
    "X_test = X_test[:,best_individual]\n",
    "X_test_tensor = torch.Tensor(X_test)\n",
    "\n",
    "rbf_net = RBFNet(input_dim=X.shape[1], output_dim=len(np.unique(y_train)), hidden_dim=80, radius=0.025)\n",
    "criterion = nn.CrossEntropyLoss()\n",
    "optimizer = optim.Adam(rbf_net.parameters(), lr=0.01)\n",
    "for epoch in range(300):\n",
    "    optimizer.zero_grad()\n",
    "    outputs = rbf_net(X_train_tensor)\n",
    "    loss = criterion(outputs, y_train_tensor.squeeze()) \n",
    "    loss.backward()\n",
    "    optimizer.step()\n",
    "with torch.no_grad():\n",
    "    rbf_net.eval()\n",
    "    y_pred = torch.argmax(rbf_net(X_test_tensor), dim=1).numpy()\n",
    "        \n",
    "Y_test = np.array(y_pred)\n",
    "for i in range(len(Y_test)):\n",
    "    if Y_test[i] == 0:\n",
    "        Y_test[i] = -1"
   ]
  },
  {
   "cell_type": "code",
   "execution_count": 26,
   "metadata": {},
   "outputs": [
    {
     "name": "stdout",
     "output_type": "stream",
     "text": [
      "[-1 -1  1  1  1 -1  1 -1  1  1 -1 -1  1  1 -1  1  1  1  1 -1 -1 -1  1 -1\n",
      " -1 -1 -1  1 -1  1 -1  1 -1 -1 -1  1 -1  1  1  1  1  1 -1  1 -1 -1 -1 -1\n",
      "  1  1  1  1  1 -1 -1  1  1  1  1  1 -1  1 -1  1  1 -1 -1  1 -1 -1  1 -1\n",
      "  1  1 -1 -1  1 -1  1  1 -1 -1 -1 -1  1  1  1 -1 -1 -1  1  1 -1  1 -1 -1\n",
      "  1 -1  1  1 -1 -1 -1 -1 -1 -1  1  1  1 -1  1  1 -1  1 -1 -1  1 -1 -1 -1\n",
      "  1 -1  1  1 -1 -1 -1  1 -1 -1  1 -1  1  1  1  1 -1  1  1  1  1  1 -1 -1\n",
      "  1 -1  1 -1 -1  1  1  1 -1 -1  1  1  1 -1  1]\n"
     ]
    }
   ],
   "source": [
    "print(Y_test)"
   ]
  },
  {
   "cell_type": "code",
   "execution_count": 24,
   "metadata": {},
   "outputs": [
    {
     "name": "stdout",
     "output_type": "stream",
     "text": [
      "[-1 -1  1  1  1 -1  1 -1  1  1 -1 -1  1  1 -1  1  1  1  1  1 -1 -1  1 -1\n",
      " -1 -1  1  1 -1  1 -1  1 -1 -1 -1 -1 -1  1  1  1  1  1 -1  1 -1 -1 -1  1\n",
      "  1  1  1  1  1 -1 -1  1  1  1  1  1 -1  1 -1  1  1  1 -1  1 -1 -1  1 -1\n",
      "  1  1 -1  1  1 -1  1  1 -1 -1 -1  1  1  1 -1 -1 -1 -1  1  1 -1 -1 -1 -1\n",
      "  1 -1  1 -1 -1 -1 -1 -1 -1 -1  1 -1  1 -1  1  1 -1 -1 -1 -1  1 -1 -1 -1\n",
      "  1 -1  1  1  1 -1 -1  1 -1 -1  1  1 -1  1  1  1 -1  1  1  1  1  1 -1 -1\n",
      "  1 -1  1  1 -1  1  1  1 -1 -1  1  1  1 -1  1]\n"
     ]
    }
   ],
   "source": [
    "print(out)"
   ]
  },
  {
   "cell_type": "code",
   "execution_count": 30,
   "metadata": {},
   "outputs": [
    {
     "name": "stdout",
     "output_type": "stream",
     "text": [
      "{'activation': 'tanh', 'hidden_layer_sizes': (25,), 'max_iter': 1000}\n"
     ]
    },
    {
     "name": "stderr",
     "output_type": "stream",
     "text": [
      "c:\\Users\\SAEED.M.L\\anaconda3\\lib\\site-packages\\sklearn\\neural_network\\_multilayer_perceptron.py:1102: DataConversionWarning: A column-vector y was passed when a 1d array was expected. Please change the shape of y to (n_samples, ), for example using ravel().\n",
      "  y = column_or_1d(y, warn=True)\n"
     ]
    }
   ],
   "source": [
    "#  Here I save test matrix\n",
    "print(grid_search.best_params_)\n",
    "model = grid_search.best_estimator_\n",
    "model.fit(X,y)\n",
    "out = model.predict(X_test)\n",
    "for i in range(len(out)):\n",
    "    if out[i] == 0:\n",
    "        out[i] =-1\n",
    "sio.savemat('TestLabels_phase2.mat',{'labelMLP':out,'labelRBF':Y_test})"
   ]
  },
  {
   "cell_type": "code",
   "execution_count": 32,
   "metadata": {},
   "outputs": [
    {
     "name": "stdout",
     "output_type": "stream",
     "text": [
      "146\n"
     ]
    }
   ],
   "source": [
    "\n",
    "print(sum(out == Y_test))"
   ]
  }
 ],
 "metadata": {
  "kernelspec": {
   "display_name": "base",
   "language": "python",
   "name": "python3"
  },
  "language_info": {
   "codemirror_mode": {
    "name": "ipython",
    "version": 3
   },
   "file_extension": ".py",
   "mimetype": "text/x-python",
   "name": "python",
   "nbconvert_exporter": "python",
   "pygments_lexer": "ipython3",
   "version": "3.10.13"
  }
 },
 "nbformat": 4,
 "nbformat_minor": 2
}
